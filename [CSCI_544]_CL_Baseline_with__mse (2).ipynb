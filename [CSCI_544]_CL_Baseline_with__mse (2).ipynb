{
  "nbformat": 4,
  "nbformat_minor": 0,
  "metadata": {
    "colab": {
      "provenance": []
    },
    "kernelspec": {
      "name": "python3",
      "display_name": "Python 3"
    },
    "language_info": {
      "name": "python"
    },
    "widgets": {
      "application/vnd.jupyter.widget-state+json": {
        "6f532221e76b4250ad8047d93b13ac70": {
          "model_module": "@jupyter-widgets/controls",
          "model_name": "HBoxModel",
          "model_module_version": "1.5.0",
          "state": {
            "_dom_classes": [],
            "_model_module": "@jupyter-widgets/controls",
            "_model_module_version": "1.5.0",
            "_model_name": "HBoxModel",
            "_view_count": null,
            "_view_module": "@jupyter-widgets/controls",
            "_view_module_version": "1.5.0",
            "_view_name": "HBoxView",
            "box_style": "",
            "children": [
              "IPY_MODEL_4f8a3547c1a24ec4a8cffcfc43e33eca",
              "IPY_MODEL_96c3cb54f02b410485154d77db355b8d",
              "IPY_MODEL_fb9686a0977044d597191050fa5e4033"
            ],
            "layout": "IPY_MODEL_3bc11e09b5194e0c86708fe2bfd30988"
          }
        },
        "4f8a3547c1a24ec4a8cffcfc43e33eca": {
          "model_module": "@jupyter-widgets/controls",
          "model_name": "HTMLModel",
          "model_module_version": "1.5.0",
          "state": {
            "_dom_classes": [],
            "_model_module": "@jupyter-widgets/controls",
            "_model_module_version": "1.5.0",
            "_model_name": "HTMLModel",
            "_view_count": null,
            "_view_module": "@jupyter-widgets/controls",
            "_view_module_version": "1.5.0",
            "_view_name": "HTMLView",
            "description": "",
            "description_tooltip": null,
            "layout": "IPY_MODEL_48f54c343ec54eb6bea6446b4dd68cc6",
            "placeholder": "​",
            "style": "IPY_MODEL_0cd671fde61f465289685a8ff8e8274d",
            "value": "Epoch 1: 100%"
          }
        },
        "96c3cb54f02b410485154d77db355b8d": {
          "model_module": "@jupyter-widgets/controls",
          "model_name": "FloatProgressModel",
          "model_module_version": "1.5.0",
          "state": {
            "_dom_classes": [],
            "_model_module": "@jupyter-widgets/controls",
            "_model_module_version": "1.5.0",
            "_model_name": "FloatProgressModel",
            "_view_count": null,
            "_view_module": "@jupyter-widgets/controls",
            "_view_module_version": "1.5.0",
            "_view_name": "ProgressView",
            "bar_style": "success",
            "description": "",
            "description_tooltip": null,
            "layout": "IPY_MODEL_098da3db816841e2a41fb69f424e31fe",
            "max": 2608,
            "min": 0,
            "orientation": "horizontal",
            "style": "IPY_MODEL_275ed700303c44418a3cd243fe378ac8",
            "value": 2608
          }
        },
        "fb9686a0977044d597191050fa5e4033": {
          "model_module": "@jupyter-widgets/controls",
          "model_name": "HTMLModel",
          "model_module_version": "1.5.0",
          "state": {
            "_dom_classes": [],
            "_model_module": "@jupyter-widgets/controls",
            "_model_module_version": "1.5.0",
            "_model_name": "HTMLModel",
            "_view_count": null,
            "_view_module": "@jupyter-widgets/controls",
            "_view_module_version": "1.5.0",
            "_view_name": "HTMLView",
            "description": "",
            "description_tooltip": null,
            "layout": "IPY_MODEL_f74046ee9e864a9bbc59bea80b1bd610",
            "placeholder": "​",
            "style": "IPY_MODEL_cb0872a1bc314eed884007e1d1f13a6e",
            "value": " 2608/2608 [03:53&lt;00:00, 11.41it/s, batch_loss=0.23]"
          }
        },
        "3bc11e09b5194e0c86708fe2bfd30988": {
          "model_module": "@jupyter-widgets/base",
          "model_name": "LayoutModel",
          "model_module_version": "1.2.0",
          "state": {
            "_model_module": "@jupyter-widgets/base",
            "_model_module_version": "1.2.0",
            "_model_name": "LayoutModel",
            "_view_count": null,
            "_view_module": "@jupyter-widgets/base",
            "_view_module_version": "1.2.0",
            "_view_name": "LayoutView",
            "align_content": null,
            "align_items": null,
            "align_self": null,
            "border": null,
            "bottom": null,
            "display": null,
            "flex": null,
            "flex_flow": null,
            "grid_area": null,
            "grid_auto_columns": null,
            "grid_auto_flow": null,
            "grid_auto_rows": null,
            "grid_column": null,
            "grid_gap": null,
            "grid_row": null,
            "grid_template_areas": null,
            "grid_template_columns": null,
            "grid_template_rows": null,
            "height": null,
            "justify_content": null,
            "justify_items": null,
            "left": null,
            "margin": null,
            "max_height": null,
            "max_width": null,
            "min_height": null,
            "min_width": null,
            "object_fit": null,
            "object_position": null,
            "order": null,
            "overflow": null,
            "overflow_x": null,
            "overflow_y": null,
            "padding": null,
            "right": null,
            "top": null,
            "visibility": null,
            "width": null
          }
        },
        "48f54c343ec54eb6bea6446b4dd68cc6": {
          "model_module": "@jupyter-widgets/base",
          "model_name": "LayoutModel",
          "model_module_version": "1.2.0",
          "state": {
            "_model_module": "@jupyter-widgets/base",
            "_model_module_version": "1.2.0",
            "_model_name": "LayoutModel",
            "_view_count": null,
            "_view_module": "@jupyter-widgets/base",
            "_view_module_version": "1.2.0",
            "_view_name": "LayoutView",
            "align_content": null,
            "align_items": null,
            "align_self": null,
            "border": null,
            "bottom": null,
            "display": null,
            "flex": null,
            "flex_flow": null,
            "grid_area": null,
            "grid_auto_columns": null,
            "grid_auto_flow": null,
            "grid_auto_rows": null,
            "grid_column": null,
            "grid_gap": null,
            "grid_row": null,
            "grid_template_areas": null,
            "grid_template_columns": null,
            "grid_template_rows": null,
            "height": null,
            "justify_content": null,
            "justify_items": null,
            "left": null,
            "margin": null,
            "max_height": null,
            "max_width": null,
            "min_height": null,
            "min_width": null,
            "object_fit": null,
            "object_position": null,
            "order": null,
            "overflow": null,
            "overflow_x": null,
            "overflow_y": null,
            "padding": null,
            "right": null,
            "top": null,
            "visibility": null,
            "width": null
          }
        },
        "0cd671fde61f465289685a8ff8e8274d": {
          "model_module": "@jupyter-widgets/controls",
          "model_name": "DescriptionStyleModel",
          "model_module_version": "1.5.0",
          "state": {
            "_model_module": "@jupyter-widgets/controls",
            "_model_module_version": "1.5.0",
            "_model_name": "DescriptionStyleModel",
            "_view_count": null,
            "_view_module": "@jupyter-widgets/base",
            "_view_module_version": "1.2.0",
            "_view_name": "StyleView",
            "description_width": ""
          }
        },
        "098da3db816841e2a41fb69f424e31fe": {
          "model_module": "@jupyter-widgets/base",
          "model_name": "LayoutModel",
          "model_module_version": "1.2.0",
          "state": {
            "_model_module": "@jupyter-widgets/base",
            "_model_module_version": "1.2.0",
            "_model_name": "LayoutModel",
            "_view_count": null,
            "_view_module": "@jupyter-widgets/base",
            "_view_module_version": "1.2.0",
            "_view_name": "LayoutView",
            "align_content": null,
            "align_items": null,
            "align_self": null,
            "border": null,
            "bottom": null,
            "display": null,
            "flex": null,
            "flex_flow": null,
            "grid_area": null,
            "grid_auto_columns": null,
            "grid_auto_flow": null,
            "grid_auto_rows": null,
            "grid_column": null,
            "grid_gap": null,
            "grid_row": null,
            "grid_template_areas": null,
            "grid_template_columns": null,
            "grid_template_rows": null,
            "height": null,
            "justify_content": null,
            "justify_items": null,
            "left": null,
            "margin": null,
            "max_height": null,
            "max_width": null,
            "min_height": null,
            "min_width": null,
            "object_fit": null,
            "object_position": null,
            "order": null,
            "overflow": null,
            "overflow_x": null,
            "overflow_y": null,
            "padding": null,
            "right": null,
            "top": null,
            "visibility": null,
            "width": null
          }
        },
        "275ed700303c44418a3cd243fe378ac8": {
          "model_module": "@jupyter-widgets/controls",
          "model_name": "ProgressStyleModel",
          "model_module_version": "1.5.0",
          "state": {
            "_model_module": "@jupyter-widgets/controls",
            "_model_module_version": "1.5.0",
            "_model_name": "ProgressStyleModel",
            "_view_count": null,
            "_view_module": "@jupyter-widgets/base",
            "_view_module_version": "1.2.0",
            "_view_name": "StyleView",
            "bar_color": null,
            "description_width": ""
          }
        },
        "f74046ee9e864a9bbc59bea80b1bd610": {
          "model_module": "@jupyter-widgets/base",
          "model_name": "LayoutModel",
          "model_module_version": "1.2.0",
          "state": {
            "_model_module": "@jupyter-widgets/base",
            "_model_module_version": "1.2.0",
            "_model_name": "LayoutModel",
            "_view_count": null,
            "_view_module": "@jupyter-widgets/base",
            "_view_module_version": "1.2.0",
            "_view_name": "LayoutView",
            "align_content": null,
            "align_items": null,
            "align_self": null,
            "border": null,
            "bottom": null,
            "display": null,
            "flex": null,
            "flex_flow": null,
            "grid_area": null,
            "grid_auto_columns": null,
            "grid_auto_flow": null,
            "grid_auto_rows": null,
            "grid_column": null,
            "grid_gap": null,
            "grid_row": null,
            "grid_template_areas": null,
            "grid_template_columns": null,
            "grid_template_rows": null,
            "height": null,
            "justify_content": null,
            "justify_items": null,
            "left": null,
            "margin": null,
            "max_height": null,
            "max_width": null,
            "min_height": null,
            "min_width": null,
            "object_fit": null,
            "object_position": null,
            "order": null,
            "overflow": null,
            "overflow_x": null,
            "overflow_y": null,
            "padding": null,
            "right": null,
            "top": null,
            "visibility": null,
            "width": null
          }
        },
        "cb0872a1bc314eed884007e1d1f13a6e": {
          "model_module": "@jupyter-widgets/controls",
          "model_name": "DescriptionStyleModel",
          "model_module_version": "1.5.0",
          "state": {
            "_model_module": "@jupyter-widgets/controls",
            "_model_module_version": "1.5.0",
            "_model_name": "DescriptionStyleModel",
            "_view_count": null,
            "_view_module": "@jupyter-widgets/base",
            "_view_module_version": "1.2.0",
            "_view_name": "StyleView",
            "description_width": ""
          }
        },
        "52f0340e6bde43adbe7d9d4ab5050a75": {
          "model_module": "@jupyter-widgets/controls",
          "model_name": "HBoxModel",
          "model_module_version": "1.5.0",
          "state": {
            "_dom_classes": [],
            "_model_module": "@jupyter-widgets/controls",
            "_model_module_version": "1.5.0",
            "_model_name": "HBoxModel",
            "_view_count": null,
            "_view_module": "@jupyter-widgets/controls",
            "_view_module_version": "1.5.0",
            "_view_name": "HBoxView",
            "box_style": "",
            "children": [
              "IPY_MODEL_eb5b719f87554133911dd03107616224",
              "IPY_MODEL_8303671d4b094024970c2eef82393420",
              "IPY_MODEL_5004db8ad10b4a34a45af1a3a8607142"
            ],
            "layout": "IPY_MODEL_71a4f2297ded45fc96ae2c53435dd71d"
          }
        },
        "eb5b719f87554133911dd03107616224": {
          "model_module": "@jupyter-widgets/controls",
          "model_name": "HTMLModel",
          "model_module_version": "1.5.0",
          "state": {
            "_dom_classes": [],
            "_model_module": "@jupyter-widgets/controls",
            "_model_module_version": "1.5.0",
            "_model_name": "HTMLModel",
            "_view_count": null,
            "_view_module": "@jupyter-widgets/controls",
            "_view_module_version": "1.5.0",
            "_view_name": "HTMLView",
            "description": "",
            "description_tooltip": null,
            "layout": "IPY_MODEL_fc2713588ea64300a7964c6b2a307fd5",
            "placeholder": "​",
            "style": "IPY_MODEL_7371f29409e54ae38226929c7a04ab06",
            "value": "Epoch 2: 100%"
          }
        },
        "8303671d4b094024970c2eef82393420": {
          "model_module": "@jupyter-widgets/controls",
          "model_name": "FloatProgressModel",
          "model_module_version": "1.5.0",
          "state": {
            "_dom_classes": [],
            "_model_module": "@jupyter-widgets/controls",
            "_model_module_version": "1.5.0",
            "_model_name": "FloatProgressModel",
            "_view_count": null,
            "_view_module": "@jupyter-widgets/controls",
            "_view_module_version": "1.5.0",
            "_view_name": "ProgressView",
            "bar_style": "success",
            "description": "",
            "description_tooltip": null,
            "layout": "IPY_MODEL_ae98bddc84934f2a9ac4ce18523cd07c",
            "max": 2608,
            "min": 0,
            "orientation": "horizontal",
            "style": "IPY_MODEL_32c8337db90b46b996e4bb9a547c2281",
            "value": 2608
          }
        },
        "5004db8ad10b4a34a45af1a3a8607142": {
          "model_module": "@jupyter-widgets/controls",
          "model_name": "HTMLModel",
          "model_module_version": "1.5.0",
          "state": {
            "_dom_classes": [],
            "_model_module": "@jupyter-widgets/controls",
            "_model_module_version": "1.5.0",
            "_model_name": "HTMLModel",
            "_view_count": null,
            "_view_module": "@jupyter-widgets/controls",
            "_view_module_version": "1.5.0",
            "_view_name": "HTMLView",
            "description": "",
            "description_tooltip": null,
            "layout": "IPY_MODEL_3f52050be0b64efb87853430b699e57a",
            "placeholder": "​",
            "style": "IPY_MODEL_f355c6ce2629405cae06398eb61061d2",
            "value": " 2608/2608 [03:52&lt;00:00, 11.24it/s, batch_loss=0]"
          }
        },
        "71a4f2297ded45fc96ae2c53435dd71d": {
          "model_module": "@jupyter-widgets/base",
          "model_name": "LayoutModel",
          "model_module_version": "1.2.0",
          "state": {
            "_model_module": "@jupyter-widgets/base",
            "_model_module_version": "1.2.0",
            "_model_name": "LayoutModel",
            "_view_count": null,
            "_view_module": "@jupyter-widgets/base",
            "_view_module_version": "1.2.0",
            "_view_name": "LayoutView",
            "align_content": null,
            "align_items": null,
            "align_self": null,
            "border": null,
            "bottom": null,
            "display": null,
            "flex": null,
            "flex_flow": null,
            "grid_area": null,
            "grid_auto_columns": null,
            "grid_auto_flow": null,
            "grid_auto_rows": null,
            "grid_column": null,
            "grid_gap": null,
            "grid_row": null,
            "grid_template_areas": null,
            "grid_template_columns": null,
            "grid_template_rows": null,
            "height": null,
            "justify_content": null,
            "justify_items": null,
            "left": null,
            "margin": null,
            "max_height": null,
            "max_width": null,
            "min_height": null,
            "min_width": null,
            "object_fit": null,
            "object_position": null,
            "order": null,
            "overflow": null,
            "overflow_x": null,
            "overflow_y": null,
            "padding": null,
            "right": null,
            "top": null,
            "visibility": null,
            "width": null
          }
        },
        "fc2713588ea64300a7964c6b2a307fd5": {
          "model_module": "@jupyter-widgets/base",
          "model_name": "LayoutModel",
          "model_module_version": "1.2.0",
          "state": {
            "_model_module": "@jupyter-widgets/base",
            "_model_module_version": "1.2.0",
            "_model_name": "LayoutModel",
            "_view_count": null,
            "_view_module": "@jupyter-widgets/base",
            "_view_module_version": "1.2.0",
            "_view_name": "LayoutView",
            "align_content": null,
            "align_items": null,
            "align_self": null,
            "border": null,
            "bottom": null,
            "display": null,
            "flex": null,
            "flex_flow": null,
            "grid_area": null,
            "grid_auto_columns": null,
            "grid_auto_flow": null,
            "grid_auto_rows": null,
            "grid_column": null,
            "grid_gap": null,
            "grid_row": null,
            "grid_template_areas": null,
            "grid_template_columns": null,
            "grid_template_rows": null,
            "height": null,
            "justify_content": null,
            "justify_items": null,
            "left": null,
            "margin": null,
            "max_height": null,
            "max_width": null,
            "min_height": null,
            "min_width": null,
            "object_fit": null,
            "object_position": null,
            "order": null,
            "overflow": null,
            "overflow_x": null,
            "overflow_y": null,
            "padding": null,
            "right": null,
            "top": null,
            "visibility": null,
            "width": null
          }
        },
        "7371f29409e54ae38226929c7a04ab06": {
          "model_module": "@jupyter-widgets/controls",
          "model_name": "DescriptionStyleModel",
          "model_module_version": "1.5.0",
          "state": {
            "_model_module": "@jupyter-widgets/controls",
            "_model_module_version": "1.5.0",
            "_model_name": "DescriptionStyleModel",
            "_view_count": null,
            "_view_module": "@jupyter-widgets/base",
            "_view_module_version": "1.2.0",
            "_view_name": "StyleView",
            "description_width": ""
          }
        },
        "ae98bddc84934f2a9ac4ce18523cd07c": {
          "model_module": "@jupyter-widgets/base",
          "model_name": "LayoutModel",
          "model_module_version": "1.2.0",
          "state": {
            "_model_module": "@jupyter-widgets/base",
            "_model_module_version": "1.2.0",
            "_model_name": "LayoutModel",
            "_view_count": null,
            "_view_module": "@jupyter-widgets/base",
            "_view_module_version": "1.2.0",
            "_view_name": "LayoutView",
            "align_content": null,
            "align_items": null,
            "align_self": null,
            "border": null,
            "bottom": null,
            "display": null,
            "flex": null,
            "flex_flow": null,
            "grid_area": null,
            "grid_auto_columns": null,
            "grid_auto_flow": null,
            "grid_auto_rows": null,
            "grid_column": null,
            "grid_gap": null,
            "grid_row": null,
            "grid_template_areas": null,
            "grid_template_columns": null,
            "grid_template_rows": null,
            "height": null,
            "justify_content": null,
            "justify_items": null,
            "left": null,
            "margin": null,
            "max_height": null,
            "max_width": null,
            "min_height": null,
            "min_width": null,
            "object_fit": null,
            "object_position": null,
            "order": null,
            "overflow": null,
            "overflow_x": null,
            "overflow_y": null,
            "padding": null,
            "right": null,
            "top": null,
            "visibility": null,
            "width": null
          }
        },
        "32c8337db90b46b996e4bb9a547c2281": {
          "model_module": "@jupyter-widgets/controls",
          "model_name": "ProgressStyleModel",
          "model_module_version": "1.5.0",
          "state": {
            "_model_module": "@jupyter-widgets/controls",
            "_model_module_version": "1.5.0",
            "_model_name": "ProgressStyleModel",
            "_view_count": null,
            "_view_module": "@jupyter-widgets/base",
            "_view_module_version": "1.2.0",
            "_view_name": "StyleView",
            "bar_color": null,
            "description_width": ""
          }
        },
        "3f52050be0b64efb87853430b699e57a": {
          "model_module": "@jupyter-widgets/base",
          "model_name": "LayoutModel",
          "model_module_version": "1.2.0",
          "state": {
            "_model_module": "@jupyter-widgets/base",
            "_model_module_version": "1.2.0",
            "_model_name": "LayoutModel",
            "_view_count": null,
            "_view_module": "@jupyter-widgets/base",
            "_view_module_version": "1.2.0",
            "_view_name": "LayoutView",
            "align_content": null,
            "align_items": null,
            "align_self": null,
            "border": null,
            "bottom": null,
            "display": null,
            "flex": null,
            "flex_flow": null,
            "grid_area": null,
            "grid_auto_columns": null,
            "grid_auto_flow": null,
            "grid_auto_rows": null,
            "grid_column": null,
            "grid_gap": null,
            "grid_row": null,
            "grid_template_areas": null,
            "grid_template_columns": null,
            "grid_template_rows": null,
            "height": null,
            "justify_content": null,
            "justify_items": null,
            "left": null,
            "margin": null,
            "max_height": null,
            "max_width": null,
            "min_height": null,
            "min_width": null,
            "object_fit": null,
            "object_position": null,
            "order": null,
            "overflow": null,
            "overflow_x": null,
            "overflow_y": null,
            "padding": null,
            "right": null,
            "top": null,
            "visibility": null,
            "width": null
          }
        },
        "f355c6ce2629405cae06398eb61061d2": {
          "model_module": "@jupyter-widgets/controls",
          "model_name": "DescriptionStyleModel",
          "model_module_version": "1.5.0",
          "state": {
            "_model_module": "@jupyter-widgets/controls",
            "_model_module_version": "1.5.0",
            "_model_name": "DescriptionStyleModel",
            "_view_count": null,
            "_view_module": "@jupyter-widgets/base",
            "_view_module_version": "1.2.0",
            "_view_name": "StyleView",
            "description_width": ""
          }
        },
        "ffa0dc23b1294e02969dd0934f8ccc33": {
          "model_module": "@jupyter-widgets/controls",
          "model_name": "HBoxModel",
          "model_module_version": "1.5.0",
          "state": {
            "_dom_classes": [],
            "_model_module": "@jupyter-widgets/controls",
            "_model_module_version": "1.5.0",
            "_model_name": "HBoxModel",
            "_view_count": null,
            "_view_module": "@jupyter-widgets/controls",
            "_view_module_version": "1.5.0",
            "_view_name": "HBoxView",
            "box_style": "",
            "children": [
              "IPY_MODEL_df0670e931b44d98911f3105b81efa79",
              "IPY_MODEL_b035693c2eb642ecbe54ab960d3a8247",
              "IPY_MODEL_1d3dfd25667946e0ab393a2c6ca969b2"
            ],
            "layout": "IPY_MODEL_2be8c7e9dd294574b625555b05d3005b"
          }
        },
        "df0670e931b44d98911f3105b81efa79": {
          "model_module": "@jupyter-widgets/controls",
          "model_name": "HTMLModel",
          "model_module_version": "1.5.0",
          "state": {
            "_dom_classes": [],
            "_model_module": "@jupyter-widgets/controls",
            "_model_module_version": "1.5.0",
            "_model_name": "HTMLModel",
            "_view_count": null,
            "_view_module": "@jupyter-widgets/controls",
            "_view_module_version": "1.5.0",
            "_view_name": "HTMLView",
            "description": "",
            "description_tooltip": null,
            "layout": "IPY_MODEL_c8b85024c7814d208b4fb7c61d745d13",
            "placeholder": "​",
            "style": "IPY_MODEL_77fc6790db2146ba95d51fd6026c800f",
            "value": "Epoch 1: 100%"
          }
        },
        "b035693c2eb642ecbe54ab960d3a8247": {
          "model_module": "@jupyter-widgets/controls",
          "model_name": "FloatProgressModel",
          "model_module_version": "1.5.0",
          "state": {
            "_dom_classes": [],
            "_model_module": "@jupyter-widgets/controls",
            "_model_module_version": "1.5.0",
            "_model_name": "FloatProgressModel",
            "_view_count": null,
            "_view_module": "@jupyter-widgets/controls",
            "_view_module_version": "1.5.0",
            "_view_name": "ProgressView",
            "bar_style": "success",
            "description": "",
            "description_tooltip": null,
            "layout": "IPY_MODEL_f771ba28f14c404bb91f55474a1209ae",
            "max": 2608,
            "min": 0,
            "orientation": "horizontal",
            "style": "IPY_MODEL_93726865cb804fd9bae71573db6f2915",
            "value": 2608
          }
        },
        "1d3dfd25667946e0ab393a2c6ca969b2": {
          "model_module": "@jupyter-widgets/controls",
          "model_name": "HTMLModel",
          "model_module_version": "1.5.0",
          "state": {
            "_dom_classes": [],
            "_model_module": "@jupyter-widgets/controls",
            "_model_module_version": "1.5.0",
            "_model_name": "HTMLModel",
            "_view_count": null,
            "_view_module": "@jupyter-widgets/controls",
            "_view_module_version": "1.5.0",
            "_view_name": "HTMLView",
            "description": "",
            "description_tooltip": null,
            "layout": "IPY_MODEL_1010f9d46684461f966af4b67cfa68eb",
            "placeholder": "​",
            "style": "IPY_MODEL_28d409d91e2441bd8e0b866e0f34da00",
            "value": " 2608/2608 [00:51&lt;00:00, 52.21it/s, batch_loss=0.199]"
          }
        },
        "2be8c7e9dd294574b625555b05d3005b": {
          "model_module": "@jupyter-widgets/base",
          "model_name": "LayoutModel",
          "model_module_version": "1.2.0",
          "state": {
            "_model_module": "@jupyter-widgets/base",
            "_model_module_version": "1.2.0",
            "_model_name": "LayoutModel",
            "_view_count": null,
            "_view_module": "@jupyter-widgets/base",
            "_view_module_version": "1.2.0",
            "_view_name": "LayoutView",
            "align_content": null,
            "align_items": null,
            "align_self": null,
            "border": null,
            "bottom": null,
            "display": null,
            "flex": null,
            "flex_flow": null,
            "grid_area": null,
            "grid_auto_columns": null,
            "grid_auto_flow": null,
            "grid_auto_rows": null,
            "grid_column": null,
            "grid_gap": null,
            "grid_row": null,
            "grid_template_areas": null,
            "grid_template_columns": null,
            "grid_template_rows": null,
            "height": null,
            "justify_content": null,
            "justify_items": null,
            "left": null,
            "margin": null,
            "max_height": null,
            "max_width": null,
            "min_height": null,
            "min_width": null,
            "object_fit": null,
            "object_position": null,
            "order": null,
            "overflow": null,
            "overflow_x": null,
            "overflow_y": null,
            "padding": null,
            "right": null,
            "top": null,
            "visibility": null,
            "width": null
          }
        },
        "c8b85024c7814d208b4fb7c61d745d13": {
          "model_module": "@jupyter-widgets/base",
          "model_name": "LayoutModel",
          "model_module_version": "1.2.0",
          "state": {
            "_model_module": "@jupyter-widgets/base",
            "_model_module_version": "1.2.0",
            "_model_name": "LayoutModel",
            "_view_count": null,
            "_view_module": "@jupyter-widgets/base",
            "_view_module_version": "1.2.0",
            "_view_name": "LayoutView",
            "align_content": null,
            "align_items": null,
            "align_self": null,
            "border": null,
            "bottom": null,
            "display": null,
            "flex": null,
            "flex_flow": null,
            "grid_area": null,
            "grid_auto_columns": null,
            "grid_auto_flow": null,
            "grid_auto_rows": null,
            "grid_column": null,
            "grid_gap": null,
            "grid_row": null,
            "grid_template_areas": null,
            "grid_template_columns": null,
            "grid_template_rows": null,
            "height": null,
            "justify_content": null,
            "justify_items": null,
            "left": null,
            "margin": null,
            "max_height": null,
            "max_width": null,
            "min_height": null,
            "min_width": null,
            "object_fit": null,
            "object_position": null,
            "order": null,
            "overflow": null,
            "overflow_x": null,
            "overflow_y": null,
            "padding": null,
            "right": null,
            "top": null,
            "visibility": null,
            "width": null
          }
        },
        "77fc6790db2146ba95d51fd6026c800f": {
          "model_module": "@jupyter-widgets/controls",
          "model_name": "DescriptionStyleModel",
          "model_module_version": "1.5.0",
          "state": {
            "_model_module": "@jupyter-widgets/controls",
            "_model_module_version": "1.5.0",
            "_model_name": "DescriptionStyleModel",
            "_view_count": null,
            "_view_module": "@jupyter-widgets/base",
            "_view_module_version": "1.2.0",
            "_view_name": "StyleView",
            "description_width": ""
          }
        },
        "f771ba28f14c404bb91f55474a1209ae": {
          "model_module": "@jupyter-widgets/base",
          "model_name": "LayoutModel",
          "model_module_version": "1.2.0",
          "state": {
            "_model_module": "@jupyter-widgets/base",
            "_model_module_version": "1.2.0",
            "_model_name": "LayoutModel",
            "_view_count": null,
            "_view_module": "@jupyter-widgets/base",
            "_view_module_version": "1.2.0",
            "_view_name": "LayoutView",
            "align_content": null,
            "align_items": null,
            "align_self": null,
            "border": null,
            "bottom": null,
            "display": null,
            "flex": null,
            "flex_flow": null,
            "grid_area": null,
            "grid_auto_columns": null,
            "grid_auto_flow": null,
            "grid_auto_rows": null,
            "grid_column": null,
            "grid_gap": null,
            "grid_row": null,
            "grid_template_areas": null,
            "grid_template_columns": null,
            "grid_template_rows": null,
            "height": null,
            "justify_content": null,
            "justify_items": null,
            "left": null,
            "margin": null,
            "max_height": null,
            "max_width": null,
            "min_height": null,
            "min_width": null,
            "object_fit": null,
            "object_position": null,
            "order": null,
            "overflow": null,
            "overflow_x": null,
            "overflow_y": null,
            "padding": null,
            "right": null,
            "top": null,
            "visibility": null,
            "width": null
          }
        },
        "93726865cb804fd9bae71573db6f2915": {
          "model_module": "@jupyter-widgets/controls",
          "model_name": "ProgressStyleModel",
          "model_module_version": "1.5.0",
          "state": {
            "_model_module": "@jupyter-widgets/controls",
            "_model_module_version": "1.5.0",
            "_model_name": "ProgressStyleModel",
            "_view_count": null,
            "_view_module": "@jupyter-widgets/base",
            "_view_module_version": "1.2.0",
            "_view_name": "StyleView",
            "bar_color": null,
            "description_width": ""
          }
        },
        "1010f9d46684461f966af4b67cfa68eb": {
          "model_module": "@jupyter-widgets/base",
          "model_name": "LayoutModel",
          "model_module_version": "1.2.0",
          "state": {
            "_model_module": "@jupyter-widgets/base",
            "_model_module_version": "1.2.0",
            "_model_name": "LayoutModel",
            "_view_count": null,
            "_view_module": "@jupyter-widgets/base",
            "_view_module_version": "1.2.0",
            "_view_name": "LayoutView",
            "align_content": null,
            "align_items": null,
            "align_self": null,
            "border": null,
            "bottom": null,
            "display": null,
            "flex": null,
            "flex_flow": null,
            "grid_area": null,
            "grid_auto_columns": null,
            "grid_auto_flow": null,
            "grid_auto_rows": null,
            "grid_column": null,
            "grid_gap": null,
            "grid_row": null,
            "grid_template_areas": null,
            "grid_template_columns": null,
            "grid_template_rows": null,
            "height": null,
            "justify_content": null,
            "justify_items": null,
            "left": null,
            "margin": null,
            "max_height": null,
            "max_width": null,
            "min_height": null,
            "min_width": null,
            "object_fit": null,
            "object_position": null,
            "order": null,
            "overflow": null,
            "overflow_x": null,
            "overflow_y": null,
            "padding": null,
            "right": null,
            "top": null,
            "visibility": null,
            "width": null
          }
        },
        "28d409d91e2441bd8e0b866e0f34da00": {
          "model_module": "@jupyter-widgets/controls",
          "model_name": "DescriptionStyleModel",
          "model_module_version": "1.5.0",
          "state": {
            "_model_module": "@jupyter-widgets/controls",
            "_model_module_version": "1.5.0",
            "_model_name": "DescriptionStyleModel",
            "_view_count": null,
            "_view_module": "@jupyter-widgets/base",
            "_view_module_version": "1.2.0",
            "_view_name": "StyleView",
            "description_width": ""
          }
        },
        "795025de890549b7b205be718ba0372d": {
          "model_module": "@jupyter-widgets/controls",
          "model_name": "HBoxModel",
          "model_module_version": "1.5.0",
          "state": {
            "_dom_classes": [],
            "_model_module": "@jupyter-widgets/controls",
            "_model_module_version": "1.5.0",
            "_model_name": "HBoxModel",
            "_view_count": null,
            "_view_module": "@jupyter-widgets/controls",
            "_view_module_version": "1.5.0",
            "_view_name": "HBoxView",
            "box_style": "",
            "children": [
              "IPY_MODEL_39c64d12a442462b99cf07ebce57309d",
              "IPY_MODEL_0e01f44d384149839d5ae295e7c7a7cf",
              "IPY_MODEL_e466a66c8f51480d8c97c86ed5cd7f06"
            ],
            "layout": "IPY_MODEL_4b7cd311fa814b4cbca5cb6f264b6253"
          }
        },
        "39c64d12a442462b99cf07ebce57309d": {
          "model_module": "@jupyter-widgets/controls",
          "model_name": "HTMLModel",
          "model_module_version": "1.5.0",
          "state": {
            "_dom_classes": [],
            "_model_module": "@jupyter-widgets/controls",
            "_model_module_version": "1.5.0",
            "_model_name": "HTMLModel",
            "_view_count": null,
            "_view_module": "@jupyter-widgets/controls",
            "_view_module_version": "1.5.0",
            "_view_name": "HTMLView",
            "description": "",
            "description_tooltip": null,
            "layout": "IPY_MODEL_d5eb86017b9b400bb25627ec246428ab",
            "placeholder": "​",
            "style": "IPY_MODEL_0bdef3621a524efb944309931739d75a",
            "value": "Epoch 2: 100%"
          }
        },
        "0e01f44d384149839d5ae295e7c7a7cf": {
          "model_module": "@jupyter-widgets/controls",
          "model_name": "FloatProgressModel",
          "model_module_version": "1.5.0",
          "state": {
            "_dom_classes": [],
            "_model_module": "@jupyter-widgets/controls",
            "_model_module_version": "1.5.0",
            "_model_name": "FloatProgressModel",
            "_view_count": null,
            "_view_module": "@jupyter-widgets/controls",
            "_view_module_version": "1.5.0",
            "_view_name": "ProgressView",
            "bar_style": "success",
            "description": "",
            "description_tooltip": null,
            "layout": "IPY_MODEL_958fcec401ef4dfbb5858d0693909ade",
            "max": 2608,
            "min": 0,
            "orientation": "horizontal",
            "style": "IPY_MODEL_b57972f5ff7942e38c95c81184f54d0c",
            "value": 2608
          }
        },
        "e466a66c8f51480d8c97c86ed5cd7f06": {
          "model_module": "@jupyter-widgets/controls",
          "model_name": "HTMLModel",
          "model_module_version": "1.5.0",
          "state": {
            "_dom_classes": [],
            "_model_module": "@jupyter-widgets/controls",
            "_model_module_version": "1.5.0",
            "_model_name": "HTMLModel",
            "_view_count": null,
            "_view_module": "@jupyter-widgets/controls",
            "_view_module_version": "1.5.0",
            "_view_name": "HTMLView",
            "description": "",
            "description_tooltip": null,
            "layout": "IPY_MODEL_6deb042f404a4ac78533e210bfb5b405",
            "placeholder": "​",
            "style": "IPY_MODEL_3f97363cc8954ce2910cda700fae1ee9",
            "value": " 2608/2608 [00:51&lt;00:00, 48.46it/s, batch_loss=0.0277]"
          }
        },
        "4b7cd311fa814b4cbca5cb6f264b6253": {
          "model_module": "@jupyter-widgets/base",
          "model_name": "LayoutModel",
          "model_module_version": "1.2.0",
          "state": {
            "_model_module": "@jupyter-widgets/base",
            "_model_module_version": "1.2.0",
            "_model_name": "LayoutModel",
            "_view_count": null,
            "_view_module": "@jupyter-widgets/base",
            "_view_module_version": "1.2.0",
            "_view_name": "LayoutView",
            "align_content": null,
            "align_items": null,
            "align_self": null,
            "border": null,
            "bottom": null,
            "display": null,
            "flex": null,
            "flex_flow": null,
            "grid_area": null,
            "grid_auto_columns": null,
            "grid_auto_flow": null,
            "grid_auto_rows": null,
            "grid_column": null,
            "grid_gap": null,
            "grid_row": null,
            "grid_template_areas": null,
            "grid_template_columns": null,
            "grid_template_rows": null,
            "height": null,
            "justify_content": null,
            "justify_items": null,
            "left": null,
            "margin": null,
            "max_height": null,
            "max_width": null,
            "min_height": null,
            "min_width": null,
            "object_fit": null,
            "object_position": null,
            "order": null,
            "overflow": null,
            "overflow_x": null,
            "overflow_y": null,
            "padding": null,
            "right": null,
            "top": null,
            "visibility": null,
            "width": null
          }
        },
        "d5eb86017b9b400bb25627ec246428ab": {
          "model_module": "@jupyter-widgets/base",
          "model_name": "LayoutModel",
          "model_module_version": "1.2.0",
          "state": {
            "_model_module": "@jupyter-widgets/base",
            "_model_module_version": "1.2.0",
            "_model_name": "LayoutModel",
            "_view_count": null,
            "_view_module": "@jupyter-widgets/base",
            "_view_module_version": "1.2.0",
            "_view_name": "LayoutView",
            "align_content": null,
            "align_items": null,
            "align_self": null,
            "border": null,
            "bottom": null,
            "display": null,
            "flex": null,
            "flex_flow": null,
            "grid_area": null,
            "grid_auto_columns": null,
            "grid_auto_flow": null,
            "grid_auto_rows": null,
            "grid_column": null,
            "grid_gap": null,
            "grid_row": null,
            "grid_template_areas": null,
            "grid_template_columns": null,
            "grid_template_rows": null,
            "height": null,
            "justify_content": null,
            "justify_items": null,
            "left": null,
            "margin": null,
            "max_height": null,
            "max_width": null,
            "min_height": null,
            "min_width": null,
            "object_fit": null,
            "object_position": null,
            "order": null,
            "overflow": null,
            "overflow_x": null,
            "overflow_y": null,
            "padding": null,
            "right": null,
            "top": null,
            "visibility": null,
            "width": null
          }
        },
        "0bdef3621a524efb944309931739d75a": {
          "model_module": "@jupyter-widgets/controls",
          "model_name": "DescriptionStyleModel",
          "model_module_version": "1.5.0",
          "state": {
            "_model_module": "@jupyter-widgets/controls",
            "_model_module_version": "1.5.0",
            "_model_name": "DescriptionStyleModel",
            "_view_count": null,
            "_view_module": "@jupyter-widgets/base",
            "_view_module_version": "1.2.0",
            "_view_name": "StyleView",
            "description_width": ""
          }
        },
        "958fcec401ef4dfbb5858d0693909ade": {
          "model_module": "@jupyter-widgets/base",
          "model_name": "LayoutModel",
          "model_module_version": "1.2.0",
          "state": {
            "_model_module": "@jupyter-widgets/base",
            "_model_module_version": "1.2.0",
            "_model_name": "LayoutModel",
            "_view_count": null,
            "_view_module": "@jupyter-widgets/base",
            "_view_module_version": "1.2.0",
            "_view_name": "LayoutView",
            "align_content": null,
            "align_items": null,
            "align_self": null,
            "border": null,
            "bottom": null,
            "display": null,
            "flex": null,
            "flex_flow": null,
            "grid_area": null,
            "grid_auto_columns": null,
            "grid_auto_flow": null,
            "grid_auto_rows": null,
            "grid_column": null,
            "grid_gap": null,
            "grid_row": null,
            "grid_template_areas": null,
            "grid_template_columns": null,
            "grid_template_rows": null,
            "height": null,
            "justify_content": null,
            "justify_items": null,
            "left": null,
            "margin": null,
            "max_height": null,
            "max_width": null,
            "min_height": null,
            "min_width": null,
            "object_fit": null,
            "object_position": null,
            "order": null,
            "overflow": null,
            "overflow_x": null,
            "overflow_y": null,
            "padding": null,
            "right": null,
            "top": null,
            "visibility": null,
            "width": null
          }
        },
        "b57972f5ff7942e38c95c81184f54d0c": {
          "model_module": "@jupyter-widgets/controls",
          "model_name": "ProgressStyleModel",
          "model_module_version": "1.5.0",
          "state": {
            "_model_module": "@jupyter-widgets/controls",
            "_model_module_version": "1.5.0",
            "_model_name": "ProgressStyleModel",
            "_view_count": null,
            "_view_module": "@jupyter-widgets/base",
            "_view_module_version": "1.2.0",
            "_view_name": "StyleView",
            "bar_color": null,
            "description_width": ""
          }
        },
        "6deb042f404a4ac78533e210bfb5b405": {
          "model_module": "@jupyter-widgets/base",
          "model_name": "LayoutModel",
          "model_module_version": "1.2.0",
          "state": {
            "_model_module": "@jupyter-widgets/base",
            "_model_module_version": "1.2.0",
            "_model_name": "LayoutModel",
            "_view_count": null,
            "_view_module": "@jupyter-widgets/base",
            "_view_module_version": "1.2.0",
            "_view_name": "LayoutView",
            "align_content": null,
            "align_items": null,
            "align_self": null,
            "border": null,
            "bottom": null,
            "display": null,
            "flex": null,
            "flex_flow": null,
            "grid_area": null,
            "grid_auto_columns": null,
            "grid_auto_flow": null,
            "grid_auto_rows": null,
            "grid_column": null,
            "grid_gap": null,
            "grid_row": null,
            "grid_template_areas": null,
            "grid_template_columns": null,
            "grid_template_rows": null,
            "height": null,
            "justify_content": null,
            "justify_items": null,
            "left": null,
            "margin": null,
            "max_height": null,
            "max_width": null,
            "min_height": null,
            "min_width": null,
            "object_fit": null,
            "object_position": null,
            "order": null,
            "overflow": null,
            "overflow_x": null,
            "overflow_y": null,
            "padding": null,
            "right": null,
            "top": null,
            "visibility": null,
            "width": null
          }
        },
        "3f97363cc8954ce2910cda700fae1ee9": {
          "model_module": "@jupyter-widgets/controls",
          "model_name": "DescriptionStyleModel",
          "model_module_version": "1.5.0",
          "state": {
            "_model_module": "@jupyter-widgets/controls",
            "_model_module_version": "1.5.0",
            "_model_name": "DescriptionStyleModel",
            "_view_count": null,
            "_view_module": "@jupyter-widgets/base",
            "_view_module_version": "1.2.0",
            "_view_name": "StyleView",
            "description_width": ""
          }
        }
      }
    },
    "accelerator": "GPU",
    "gpuClass": "standard"
  },
  "cells": [
    {
      "cell_type": "markdown",
      "source": [
        "## Installs & Imports"
      ],
      "metadata": {
        "id": "gDR79m-A-yKq"
      }
    },
    {
      "cell_type": "code",
      "execution_count": null,
      "metadata": {
        "id": "unpdmMnj-sut"
      },
      "outputs": [],
      "source": [
        "!pip install --quiet transformers\n",
        "!pip install --quiet pytorch-metric-learning"
      ]
    },
    {
      "cell_type": "code",
      "source": [
        "import json\n",
        "\n",
        "import numpy as np\n",
        "import pandas as pd\n",
        "\n",
        "import torch.nn.functional as F\n",
        "import torch\n",
        "from torch.utils.data import Dataset, random_split, DataLoader\n",
        "from torch.optim import AdamW\n",
        "import torch.nn as nn\n",
        "from tqdm.notebook import tqdm\n",
        "\n",
        "from transformers import DistilBertModel, DistilBertTokenizer\n",
        "\n",
        "from pytorch_metric_learning import losses\n",
        "\n",
        "from sklearn.metrics import (\n",
        "    accuracy_score,\n",
        "    f1_score,\n",
        "    roc_auc_score,\n",
        "    r2_score,\n",
        "    classification_report\n",
        ")"
      ],
      "metadata": {
        "id": "7K7gdNjW-4ic"
      },
      "execution_count": null,
      "outputs": []
    },
    {
      "cell_type": "markdown",
      "source": [
        "## Config"
      ],
      "metadata": {
        "id": "jYcJMzCd-9nM"
      }
    },
    {
      "cell_type": "code",
      "source": [
        "from google.colab import drive\n",
        "drive.mount('/content/drive')"
      ],
      "metadata": {
        "colab": {
          "base_uri": "https://localhost:8080/"
        },
        "id": "Fds4932YQS6_",
        "outputId": "45df691a-dae6-43fa-d1d4-61f00b384948"
      },
      "execution_count": null,
      "outputs": [
        {
          "output_type": "stream",
          "name": "stdout",
          "text": [
            "Drive already mounted at /content/drive; to attempt to forcibly remount, call drive.mount(\"/content/drive\", force_remount=True).\n"
          ]
        }
      ]
    },
    {
      "cell_type": "code",
      "source": [
        "class Config:\n",
        "    def __init__(self):\n",
        "        self.MAX_LEN = 128\n",
        "        self.TOKENIZER = DistilBertTokenizer.from_pretrained('distilbert-base-multilingual-cased')\n",
        "        self.BATCH_SIZE = 4\n",
        "        self.EPOCHS = 2\n",
        "        self.TRAINED_MODEL_PATH = \"distilbert_cl_baseline.pt\"\n",
        "        self.DEVICE = torch.device(\"cuda\" if torch.cuda.is_available() else \"cpu\")"
      ],
      "metadata": {
        "id": "Q5SryNWvx5tT"
      },
      "execution_count": null,
      "outputs": []
    },
    {
      "cell_type": "code",
      "source": [
        "config = Config()"
      ],
      "metadata": {
        "id": "4rkJv2okyEy2"
      },
      "execution_count": null,
      "outputs": []
    },
    {
      "cell_type": "markdown",
      "source": [
        "## Data Processing"
      ],
      "metadata": {
        "id": "SgVZKqde_AVX"
      }
    },
    {
      "cell_type": "code",
      "source": [
        "train_hs = pd.read_json('/content/drive/MyDrive/NLP_proj_data/HS-Brexit_dataset/HS-Brexit_train.json').transpose()\n",
        "train_md = pd.read_json('/content/drive/MyDrive/NLP_proj_data/MD-Agreement_dataset/MD-Agreement_train.json').transpose()\n",
        "train_ca = pd.read_json('/content/drive/MyDrive/NLP_proj_data/ConvAbuse_dataset/ConvAbuse_train.json').transpose()\n",
        "train_ar = pd.read_json('/content/drive/MyDrive/NLP_proj_data/ArMIS_dataset/ArMIS_train.json').transpose()\n",
        "\n",
        "test_hs = pd.read_json('/content/drive/MyDrive/NLP_proj_data/HS-Brexit_dataset/HS-Brexit_test.json').transpose()\n",
        "test_md = pd.read_json('/content/drive/MyDrive/NLP_proj_data/MD-Agreement_dataset/MD-Agreement_test.json').transpose()\n",
        "test_ca = pd.read_json('/content/drive/MyDrive/NLP_proj_data/ConvAbuse_dataset/ConvAbuse_test.json').transpose()\n",
        "test_ar = pd.read_json('/content/drive/MyDrive/NLP_proj_data/ArMIS_dataset/ArMIS_test.json').transpose()\n",
        "\n",
        "dev_hs = pd.read_json('/content/drive/MyDrive/NLP_proj_data/HS-Brexit_dataset/HS-Brexit_dev.json').transpose()\n",
        "dev_md = pd.read_json('/content/drive/MyDrive/NLP_proj_data/MD-Agreement_dataset/MD-Agreement_dev.json').transpose()\n",
        "dev_ca = pd.read_json('/content/drive/MyDrive/NLP_proj_data/ConvAbuse_dataset/ConvAbuse_dev.json').transpose()\n",
        "dev_ar = pd.read_json('/content/drive/MyDrive/NLP_proj_data/ArMIS_dataset/ArMIS_dev.json').transpose()\n",
        "\n",
        "train = pd.concat([train_hs, train_md, train_ca, train_ar], axis=0)\n",
        "test = pd.concat([test_hs, test_md, test_ca, test_ar], axis=0)\n",
        "dev = pd.concat([dev_hs, dev_md, dev_ca, dev_ar], axis=0)\n",
        "\n",
        "\n",
        "train.head()"
      ],
      "metadata": {
        "id": "xDrMUfDn_Brp",
        "colab": {
          "base_uri": "https://localhost:8080/",
          "height": 354
        },
        "outputId": "d91c07d1-04a5-4f09-8e66-2076ffcaee8a"
      },
      "execution_count": null,
      "outputs": [
        {
          "output_type": "execute_result",
          "data": {
            "text/plain": [
              "                                                text        annotation task  \\\n",
              "1  <user> <user> I'm so glad about #Brexit.. My a...  hate speech detection   \n",
              "2  RT <user>: There was more to #Brexit than immi...  hate speech detection   \n",
              "3  At the end of the day, the leave campaign won ...  hate speech detection   \n",
              "4  So the reducing migration thing wasn't quite w...  hate speech detection   \n",
              "5  A Brit Immigrant Asks Britain to Become India’...  hate speech detection   \n",
              "\n",
              "  number of annotations  annotations                     annotators lang  \\\n",
              "1                     6  0,0,0,0,0,0  Ann1,Ann2,Ann3,Ann4,Ann5,Ann6   en   \n",
              "2                     6  0,0,0,0,0,0  Ann1,Ann2,Ann3,Ann4,Ann5,Ann6   en   \n",
              "3                     6  0,0,0,0,0,0  Ann1,Ann2,Ann3,Ann4,Ann5,Ann6   en   \n",
              "4                     6  0,0,0,0,0,0  Ann1,Ann2,Ann3,Ann4,Ann5,Ann6   en   \n",
              "5                     6  0,0,0,0,0,0  Ann1,Ann2,Ann3,Ann4,Ann5,Ann6   en   \n",
              "\n",
              "  hard_label            soft_label  split  \\\n",
              "1          0  {'0': 1.0, '1': 0.0}  train   \n",
              "2          0  {'0': 1.0, '1': 0.0}  train   \n",
              "3          0  {'0': 1.0, '1': 0.0}  train   \n",
              "4          0  {'0': 1.0, '1': 0.0}  train   \n",
              "5          0  {'0': 1.0, '1': 0.0}  train   \n",
              "\n",
              "                                          other_info  \n",
              "1  {'other annotations': {'aggressive language de...  \n",
              "2  {'other annotations': {'aggressive language de...  \n",
              "3  {'other annotations': {'aggressive language de...  \n",
              "4  {'other annotations': {'aggressive language de...  \n",
              "5  {'other annotations': {'aggressive language de...  "
            ],
            "text/html": [
              "\n",
              "  <div id=\"df-2f39cb12-b755-473e-93da-cc2f75a0e35c\">\n",
              "    <div class=\"colab-df-container\">\n",
              "      <div>\n",
              "<style scoped>\n",
              "    .dataframe tbody tr th:only-of-type {\n",
              "        vertical-align: middle;\n",
              "    }\n",
              "\n",
              "    .dataframe tbody tr th {\n",
              "        vertical-align: top;\n",
              "    }\n",
              "\n",
              "    .dataframe thead th {\n",
              "        text-align: right;\n",
              "    }\n",
              "</style>\n",
              "<table border=\"1\" class=\"dataframe\">\n",
              "  <thead>\n",
              "    <tr style=\"text-align: right;\">\n",
              "      <th></th>\n",
              "      <th>text</th>\n",
              "      <th>annotation task</th>\n",
              "      <th>number of annotations</th>\n",
              "      <th>annotations</th>\n",
              "      <th>annotators</th>\n",
              "      <th>lang</th>\n",
              "      <th>hard_label</th>\n",
              "      <th>soft_label</th>\n",
              "      <th>split</th>\n",
              "      <th>other_info</th>\n",
              "    </tr>\n",
              "  </thead>\n",
              "  <tbody>\n",
              "    <tr>\n",
              "      <th>1</th>\n",
              "      <td>&lt;user&gt; &lt;user&gt; I'm so glad about #Brexit.. My a...</td>\n",
              "      <td>hate speech detection</td>\n",
              "      <td>6</td>\n",
              "      <td>0,0,0,0,0,0</td>\n",
              "      <td>Ann1,Ann2,Ann3,Ann4,Ann5,Ann6</td>\n",
              "      <td>en</td>\n",
              "      <td>0</td>\n",
              "      <td>{'0': 1.0, '1': 0.0}</td>\n",
              "      <td>train</td>\n",
              "      <td>{'other annotations': {'aggressive language de...</td>\n",
              "    </tr>\n",
              "    <tr>\n",
              "      <th>2</th>\n",
              "      <td>RT &lt;user&gt;: There was more to #Brexit than immi...</td>\n",
              "      <td>hate speech detection</td>\n",
              "      <td>6</td>\n",
              "      <td>0,0,0,0,0,0</td>\n",
              "      <td>Ann1,Ann2,Ann3,Ann4,Ann5,Ann6</td>\n",
              "      <td>en</td>\n",
              "      <td>0</td>\n",
              "      <td>{'0': 1.0, '1': 0.0}</td>\n",
              "      <td>train</td>\n",
              "      <td>{'other annotations': {'aggressive language de...</td>\n",
              "    </tr>\n",
              "    <tr>\n",
              "      <th>3</th>\n",
              "      <td>At the end of the day, the leave campaign won ...</td>\n",
              "      <td>hate speech detection</td>\n",
              "      <td>6</td>\n",
              "      <td>0,0,0,0,0,0</td>\n",
              "      <td>Ann1,Ann2,Ann3,Ann4,Ann5,Ann6</td>\n",
              "      <td>en</td>\n",
              "      <td>0</td>\n",
              "      <td>{'0': 1.0, '1': 0.0}</td>\n",
              "      <td>train</td>\n",
              "      <td>{'other annotations': {'aggressive language de...</td>\n",
              "    </tr>\n",
              "    <tr>\n",
              "      <th>4</th>\n",
              "      <td>So the reducing migration thing wasn't quite w...</td>\n",
              "      <td>hate speech detection</td>\n",
              "      <td>6</td>\n",
              "      <td>0,0,0,0,0,0</td>\n",
              "      <td>Ann1,Ann2,Ann3,Ann4,Ann5,Ann6</td>\n",
              "      <td>en</td>\n",
              "      <td>0</td>\n",
              "      <td>{'0': 1.0, '1': 0.0}</td>\n",
              "      <td>train</td>\n",
              "      <td>{'other annotations': {'aggressive language de...</td>\n",
              "    </tr>\n",
              "    <tr>\n",
              "      <th>5</th>\n",
              "      <td>A Brit Immigrant Asks Britain to Become India’...</td>\n",
              "      <td>hate speech detection</td>\n",
              "      <td>6</td>\n",
              "      <td>0,0,0,0,0,0</td>\n",
              "      <td>Ann1,Ann2,Ann3,Ann4,Ann5,Ann6</td>\n",
              "      <td>en</td>\n",
              "      <td>0</td>\n",
              "      <td>{'0': 1.0, '1': 0.0}</td>\n",
              "      <td>train</td>\n",
              "      <td>{'other annotations': {'aggressive language de...</td>\n",
              "    </tr>\n",
              "  </tbody>\n",
              "</table>\n",
              "</div>\n",
              "      <button class=\"colab-df-convert\" onclick=\"convertToInteractive('df-2f39cb12-b755-473e-93da-cc2f75a0e35c')\"\n",
              "              title=\"Convert this dataframe to an interactive table.\"\n",
              "              style=\"display:none;\">\n",
              "        \n",
              "  <svg xmlns=\"http://www.w3.org/2000/svg\" height=\"24px\"viewBox=\"0 0 24 24\"\n",
              "       width=\"24px\">\n",
              "    <path d=\"M0 0h24v24H0V0z\" fill=\"none\"/>\n",
              "    <path d=\"M18.56 5.44l.94 2.06.94-2.06 2.06-.94-2.06-.94-.94-2.06-.94 2.06-2.06.94zm-11 1L8.5 8.5l.94-2.06 2.06-.94-2.06-.94L8.5 2.5l-.94 2.06-2.06.94zm10 10l.94 2.06.94-2.06 2.06-.94-2.06-.94-.94-2.06-.94 2.06-2.06.94z\"/><path d=\"M17.41 7.96l-1.37-1.37c-.4-.4-.92-.59-1.43-.59-.52 0-1.04.2-1.43.59L10.3 9.45l-7.72 7.72c-.78.78-.78 2.05 0 2.83L4 21.41c.39.39.9.59 1.41.59.51 0 1.02-.2 1.41-.59l7.78-7.78 2.81-2.81c.8-.78.8-2.07 0-2.86zM5.41 20L4 18.59l7.72-7.72 1.47 1.35L5.41 20z\"/>\n",
              "  </svg>\n",
              "      </button>\n",
              "      \n",
              "  <style>\n",
              "    .colab-df-container {\n",
              "      display:flex;\n",
              "      flex-wrap:wrap;\n",
              "      gap: 12px;\n",
              "    }\n",
              "\n",
              "    .colab-df-convert {\n",
              "      background-color: #E8F0FE;\n",
              "      border: none;\n",
              "      border-radius: 50%;\n",
              "      cursor: pointer;\n",
              "      display: none;\n",
              "      fill: #1967D2;\n",
              "      height: 32px;\n",
              "      padding: 0 0 0 0;\n",
              "      width: 32px;\n",
              "    }\n",
              "\n",
              "    .colab-df-convert:hover {\n",
              "      background-color: #E2EBFA;\n",
              "      box-shadow: 0px 1px 2px rgba(60, 64, 67, 0.3), 0px 1px 3px 1px rgba(60, 64, 67, 0.15);\n",
              "      fill: #174EA6;\n",
              "    }\n",
              "\n",
              "    [theme=dark] .colab-df-convert {\n",
              "      background-color: #3B4455;\n",
              "      fill: #D2E3FC;\n",
              "    }\n",
              "\n",
              "    [theme=dark] .colab-df-convert:hover {\n",
              "      background-color: #434B5C;\n",
              "      box-shadow: 0px 1px 3px 1px rgba(0, 0, 0, 0.15);\n",
              "      filter: drop-shadow(0px 1px 2px rgba(0, 0, 0, 0.3));\n",
              "      fill: #FFFFFF;\n",
              "    }\n",
              "  </style>\n",
              "\n",
              "      <script>\n",
              "        const buttonEl =\n",
              "          document.querySelector('#df-2f39cb12-b755-473e-93da-cc2f75a0e35c button.colab-df-convert');\n",
              "        buttonEl.style.display =\n",
              "          google.colab.kernel.accessAllowed ? 'block' : 'none';\n",
              "\n",
              "        async function convertToInteractive(key) {\n",
              "          const element = document.querySelector('#df-2f39cb12-b755-473e-93da-cc2f75a0e35c');\n",
              "          const dataTable =\n",
              "            await google.colab.kernel.invokeFunction('convertToInteractive',\n",
              "                                                     [key], {});\n",
              "          if (!dataTable) return;\n",
              "\n",
              "          const docLinkHtml = 'Like what you see? Visit the ' +\n",
              "            '<a target=\"_blank\" href=https://colab.research.google.com/notebooks/data_table.ipynb>data table notebook</a>'\n",
              "            + ' to learn more about interactive tables.';\n",
              "          element.innerHTML = '';\n",
              "          dataTable['output_type'] = 'display_data';\n",
              "          await google.colab.output.renderOutput(dataTable, element);\n",
              "          const docLink = document.createElement('div');\n",
              "          docLink.innerHTML = docLinkHtml;\n",
              "          element.appendChild(docLink);\n",
              "        }\n",
              "      </script>\n",
              "    </div>\n",
              "  </div>\n",
              "  "
            ]
          },
          "metadata": {},
          "execution_count": 31
        }
      ]
    },
    {
      "cell_type": "code",
      "source": [
        "train['soft_label'].value_counts()"
      ],
      "metadata": {
        "colab": {
          "base_uri": "https://localhost:8080/"
        },
        "id": "yVzVp7RznL5Q",
        "outputId": "c153d047-70f5-483a-b8d8-e8127601c769"
      },
      "execution_count": null,
      "outputs": [
        {
          "output_type": "execute_result",
          "data": {
            "text/plain": [
              "{'0': 1.0, '1': 0.0}                    4964\n",
              "{'0': 0.8, '1': 0.2}                    1307\n",
              "{'0': 0.6000000000000001, '1': 0.4}     1038\n",
              "{'0': 0.0, '1': 1.0}                     862\n",
              "{'0': 0.4, '1': 0.6000000000000001}      856\n",
              "{'0': 0.2, '1': 0.8}                     639\n",
              "{'0': 0.67, '1': 0.33}                   184\n",
              "{'0': 0.33, '1': 0.67}                   136\n",
              "{'0': 0.5, '1': 0.5}                     135\n",
              "{'0': 0.667, '1': 0.333}                 105\n",
              "{'0': 0.333, '1': 0.667}                  88\n",
              "{'0': 0.8300000000000001, '1': 0.17}      74\n",
              "{'0': 0.75, '1': 0.25}                    14\n",
              "{'0': 0.17, '1': 0.8300000000000001}      13\n",
              "{'0': 0.25, '1': 0.75}                    10\n",
              "{'0': 0.167, '1': 0.833}                   4\n",
              "{'0': 0.833, '1': 0.167}                   2\n",
              "Name: soft_label, dtype: int64"
            ]
          },
          "metadata": {},
          "execution_count": 32
        }
      ]
    },
    {
      "cell_type": "code",
      "source": [
        "# df = pd.read_json('/content/HS-Brexit_train.json').transpose()\n",
        "df = train.copy()\n",
        "df_test = test.copy()\n",
        "df_dev = dev.copy()"
      ],
      "metadata": {
        "id": "gRYUNIDVxfiY"
      },
      "execution_count": null,
      "outputs": []
    },
    {
      "cell_type": "code",
      "source": [
        "def normalize_hard_labels(label):\n",
        "    return int(label)\n",
        "\n",
        "df['hard_label'] = df['hard_label'].apply(normalize_hard_labels)\n",
        "df_test['hard_label'] = df_test['hard_label'].apply(normalize_hard_labels)\n",
        "df_dev['hard_label'] = df_dev['hard_label'].apply(normalize_hard_labels)\n",
        "\n",
        "df['hard_label'].value_counts()"
      ],
      "metadata": {
        "colab": {
          "base_uri": "https://localhost:8080/"
        },
        "id": "d3bZO4YmqOPn",
        "outputId": "0500dc11-8868-42b2-bb4a-f6631e806a83"
      },
      "execution_count": null,
      "outputs": [
        {
          "output_type": "execute_result",
          "data": {
            "text/plain": [
              "0    7738\n",
              "1    2693\n",
              "Name: hard_label, dtype: int64"
            ]
          },
          "metadata": {},
          "execution_count": 34
        }
      ]
    },
    {
      "cell_type": "code",
      "source": [
        "df = df.dropna()\n",
        "df_test = df_test.dropna()\n",
        "df_dev = df_dev.dropna()"
      ],
      "metadata": {
        "id": "7Q75DMepWBUW"
      },
      "execution_count": null,
      "outputs": []
    },
    {
      "cell_type": "markdown",
      "source": [
        "## Custom Dataset"
      ],
      "metadata": {
        "id": "RLxMNaO7BUPm"
      }
    },
    {
      "cell_type": "code",
      "source": [
        "class CustomDataset:\n",
        "    def __init__(self, df):\n",
        "        self.tokenizer = config.TOKENIZER\n",
        "        self.text = df[\"text\"].tolist()\n",
        "        self.targets = [int(t) for t in df[\"hard_label\"].tolist()]\n",
        "        self.soft_labels = df['soft_label'].tolist()\n",
        "\n",
        "    def __len__(self):\n",
        "        return len(self.text)\n",
        "\n",
        "    def __getitem__(self, index):\n",
        "        inputs = self.tokenizer.encode_plus(\n",
        "            str(self.text[index]),\n",
        "            None,\n",
        "            add_special_tokens = True,\n",
        "            max_length = config.MAX_LEN,\n",
        "            padding='max_length',\n",
        "            truncation = True\n",
        "        )\n",
        "\n",
        "        input_ids = inputs['input_ids']\n",
        "        input_mask = inputs['attention_mask']\n",
        "\n",
        "        return{\n",
        "                'input_ids': torch.tensor(input_ids, dtype=torch.long),\n",
        "                'input_mask': torch.tensor(input_mask, dtype=torch.long),\n",
        "                'targets': torch.tensor(self.targets[index], dtype=torch.float),\n",
        "                'soft_labels': torch.tensor(self.soft_labels[index]['0'], dtype=torch.float)\n",
        "            }"
      ],
      "metadata": {
        "id": "38W-oeYwx0ZJ"
      },
      "execution_count": null,
      "outputs": []
    },
    {
      "cell_type": "markdown",
      "source": [
        "## Data Loader"
      ],
      "metadata": {
        "id": "eI9Q0mCfBqsB"
      }
    },
    {
      "cell_type": "code",
      "source": [
        "train_dataset = CustomDataset(df)\n",
        "train_dataloader = DataLoader(train_dataset, batch_size=config.BATCH_SIZE, shuffle=True)\n",
        "\n",
        "test_dataset = CustomDataset(df_test)\n",
        "test_dataloader = DataLoader(test_dataset, batch_size=config.BATCH_SIZE, shuffle=True)\n",
        "\n",
        "dev_dataset = CustomDataset(df_dev)\n",
        "dev_dataloader = DataLoader(dev_dataset, batch_size=config.BATCH_SIZE, shuffle=True)"
      ],
      "metadata": {
        "id": "qlrCGaZxBsn9"
      },
      "execution_count": null,
      "outputs": []
    },
    {
      "cell_type": "code",
      "source": [
        "for batch in train_dataloader:\n",
        "    print(batch['input_ids'])\n",
        "    break"
      ],
      "metadata": {
        "colab": {
          "base_uri": "https://localhost:8080/"
        },
        "id": "9xopEr9wzcZ2",
        "outputId": "f7368af9-a7d7-44c5-fcc6-db3e82bb55ed"
      },
      "execution_count": null,
      "outputs": [
        {
          "output_type": "stream",
          "name": "stdout",
          "text": [
            "tensor([[   101,    195,    107,  12229,  10477,    168,  18980,    107,    131,\n",
            "            107, 100393,  13028,  12229,  14854,  12277,    146,  10309,  10472,\n",
            "            169,  12483,    136,    107,    117,    107,  12229,  10477,    168,\n",
            "          29115,    107,    131,    107,    146,  10134,  10135,  15127,  21997,\n",
            "          14039,    119,    119,    119,    119,    119,    107,    117,    107,\n",
            "          18980,    107,    131,    107,  24781,  10149,  13028,  41549,  10911,\n",
            "          13028,  10309,  10135,  20442,  21997,  14039,  12820,  11858,    136,\n",
            "            107,    117,    107,  29115,    107,    131,    107,    146,    112,\n",
            "            181,  19369,  10157,  10111,  10529,  87202,  10114,  10149,    117,\n",
            "          10473,    177,    112,    181,  10472,  30918,  10271,    119,    107,\n",
            "            197,    102,      0,      0,      0,      0,      0,      0,      0,\n",
            "              0,      0,      0,      0,      0,      0,      0,      0,      0,\n",
            "              0,      0,      0,      0,      0,      0,      0,      0,      0,\n",
            "              0,      0,      0,      0,      0,      0,      0,      0,      0,\n",
            "              0,      0],\n",
            "        [   101,    195,    107,  12229,  10477,    168,  18980,    107,    131,\n",
            "            107,  14820,  13028,  90052,  10135,  10189,    136,    107,    117,\n",
            "            107,  12229,  10477,    168,  29115,    107,    131,    107,  10479,\n",
            "          10301,  13028,    107,    117,    107,  18980,    107,    131,    107,\n",
            "         100393,  13028,  12229,  14854,  12277,    146,  10309,  10472,    164,\n",
            "            166,    136,    107,    117,    107,  29115,    107,    131,    107,\n",
            "          32099,  13028,    107,    197,    102,      0,      0,      0,      0,\n",
            "              0,      0,      0,      0,      0,      0,      0,      0,      0,\n",
            "              0,      0,      0,      0,      0,      0,      0,      0,      0,\n",
            "              0,      0,      0,      0,      0,      0,      0,      0,      0,\n",
            "              0,      0,      0,      0,      0,      0,      0,      0,      0,\n",
            "              0,      0,      0,      0,      0,      0,      0,      0,      0,\n",
            "              0,      0,      0,      0,      0,      0,      0,      0,      0,\n",
            "              0,      0,      0,      0,      0,      0,      0,      0,      0,\n",
            "              0,      0],\n",
            "        [   101,    160,  68380,  49307,    160,  12396,  14703,    102,      0,\n",
            "              0,      0,      0,      0,      0,      0,      0,      0,      0,\n",
            "              0,      0,      0,      0,      0,      0,      0,      0,      0,\n",
            "              0,      0,      0,      0,      0,      0,      0,      0,      0,\n",
            "              0,      0,      0,      0,      0,      0,      0,      0,      0,\n",
            "              0,      0,      0,      0,      0,      0,      0,      0,      0,\n",
            "              0,      0,      0,      0,      0,      0,      0,      0,      0,\n",
            "              0,      0,      0,      0,      0,      0,      0,      0,      0,\n",
            "              0,      0,      0,      0,      0,      0,      0,      0,      0,\n",
            "              0,      0,      0,      0,      0,      0,      0,      0,      0,\n",
            "              0,      0,      0,      0,      0,      0,      0,      0,      0,\n",
            "              0,      0,      0,      0,      0,      0,      0,      0,      0,\n",
            "              0,      0,      0,      0,      0,      0,      0,      0,      0,\n",
            "              0,      0,      0,      0,      0,      0,      0,      0,      0,\n",
            "              0,      0],\n",
            "        [   101,    157, 108880,  10731,  40214,  49307,  11090,  47168,  10738,\n",
            "          14703,    106,  32992,  77261,  35066,  11369, 100061,  11273,    153,\n",
            "          39272,  30889,  11259,  99843,  11447,  52428,  53317,  44917,  71033,\n",
            "          32995,  29990,  27128,  50183,    145,  42031,    106,    102,      0,\n",
            "              0,      0,      0,      0,      0,      0,      0,      0,      0,\n",
            "              0,      0,      0,      0,      0,      0,      0,      0,      0,\n",
            "              0,      0,      0,      0,      0,      0,      0,      0,      0,\n",
            "              0,      0,      0,      0,      0,      0,      0,      0,      0,\n",
            "              0,      0,      0,      0,      0,      0,      0,      0,      0,\n",
            "              0,      0,      0,      0,      0,      0,      0,      0,      0,\n",
            "              0,      0,      0,      0,      0,      0,      0,      0,      0,\n",
            "              0,      0,      0,      0,      0,      0,      0,      0,      0,\n",
            "              0,      0,      0,      0,      0,      0,      0,      0,      0,\n",
            "              0,      0,      0,      0,      0,      0,      0,      0,      0,\n",
            "              0,      0]])\n"
          ]
        }
      ]
    },
    {
      "cell_type": "code",
      "source": [
        "for batch in train_dataloader:\n",
        "    print(batch['soft_labels'])\n",
        "    break"
      ],
      "metadata": {
        "colab": {
          "base_uri": "https://localhost:8080/"
        },
        "id": "yPep3xigwtHr",
        "outputId": "e46eab3d-9080-472d-ca6b-577e119ce033"
      },
      "execution_count": null,
      "outputs": [
        {
          "output_type": "stream",
          "name": "stdout",
          "text": [
            "tensor([1.0000, 1.0000, 0.8300, 0.6000])\n"
          ]
        }
      ]
    },
    {
      "cell_type": "markdown",
      "source": [
        "## Model"
      ],
      "metadata": {
        "id": "eftCz82v0e69"
      }
    },
    {
      "cell_type": "code",
      "source": [
        "class TransformerModel(torch.nn.Module):\n",
        "    def __init__(self):\n",
        "        super(TransformerModel, self).__init__()\n",
        "        self.model = DistilBertModel.from_pretrained('distilbert-base-multilingual-cased')\n",
        "        self.drop = torch.nn.Dropout(0.3)\n",
        "\n",
        "    def forward(self, ids, mask):\n",
        "        outputs = self.model(ids, attention_mask=mask)\n",
        "        hidden_state = outputs[0]\n",
        "        pooled_output = hidden_state[:, 0]\n",
        "        return self.drop(pooled_output)"
      ],
      "metadata": {
        "id": "YCw6RBzi0gLp"
      },
      "execution_count": null,
      "outputs": []
    },
    {
      "cell_type": "markdown",
      "source": [
        "## CL Engine"
      ],
      "metadata": {
        "id": "iOMDo-011Vi1"
      }
    },
    {
      "cell_type": "code",
      "source": [
        "def loss_fn(outputs, targets):\n",
        "    return losses.TripletMarginLoss()(outputs, targets)\n",
        "\n",
        "\n",
        "def train(epoch, model, training_loader, device, optimizer):\n",
        "    progress_bar = tqdm(\n",
        "        training_loader,\n",
        "        total=len(training_loader),\n",
        "        desc='Epoch ' + str(epoch + 1)\n",
        "    )\n",
        "    model.train()\n",
        "    train_loss = 0\n",
        "    for step, data in enumerate(progress_bar):\n",
        "        ids = data['input_ids'].to(device, dtype=torch.long)\n",
        "        mask = data['input_mask'].to(device, dtype=torch.long)\n",
        "        targets = data['targets'].to(device, dtype=torch.float)\n",
        "\n",
        "        outputs = model(ids, mask)\n",
        "\n",
        "        optimizer.zero_grad()\n",
        "        loss = loss_fn(outputs, targets)\n",
        "        train_loss += loss.item()\n",
        "        progress_bar.set_postfix({\"batch_loss\": loss.item()})\n",
        "\n",
        "        optimizer.zero_grad()\n",
        "        loss.backward()\n",
        "        optimizer.step()\n",
        "    return train_loss / len(training_loader)"
      ],
      "metadata": {
        "id": "Svky4dxe1XKW"
      },
      "execution_count": null,
      "outputs": []
    },
    {
      "cell_type": "markdown",
      "source": [
        "## Warming up DistilBERT with Contrastive Learning"
      ],
      "metadata": {
        "id": "nwXNDcQwA-4Y"
      }
    },
    {
      "cell_type": "code",
      "source": [
        "def run(df):\n",
        "    # Creating dataloader\n",
        "    train_dataset = CustomDataset(df)\n",
        "    train_dataloader = DataLoader(train_dataset, batch_size=config.BATCH_SIZE, shuffle=True)\n",
        "\n",
        "    # GPU check and setting the device\n",
        "    device = torch.device(\"cuda\" if torch.cuda.is_available() else \"cpu\")\n",
        "    n_gpu = torch.cuda.device_count()\n",
        "    print(torch.cuda.get_device_name(0))\n",
        "\n",
        "    # Object of model and setting to device\n",
        "    model = TransformerModel()\n",
        "    model.to(device)\n",
        "\n",
        "    # Model parameters\n",
        "    param_optimizer = list(model.named_parameters())\n",
        "    no_decay = [\"bias\", \"LayerNorm.bias\", \"LayerNorm.weight\"]\n",
        "    optimizer_parameters = [\n",
        "        {\n",
        "            \"params\": [\n",
        "                p for n, p in param_optimizer if not any(nd in n for nd in no_decay)\n",
        "            ],\n",
        "            \"weight_decay\": 0.001,\n",
        "        },\n",
        "        {\n",
        "            \"params\": [\n",
        "                p for n, p in param_optimizer if any(nd in n for nd in no_decay)\n",
        "            ],\n",
        "            \"weight_decay\": 0.0,\n",
        "        },\n",
        "    ]\n",
        "\n",
        "    # Optimizer and Scheduler\n",
        "    optimizer = torch.optim.AdamW(optimizer_parameters, lr=3e-5)\n",
        "\n",
        "    # Training loop\n",
        "    best_loss = float('inf')\n",
        "    for epoch in range(config.EPOCHS):\n",
        "        loss = train(epoch, model, train_dataloader, device, optimizer)\n",
        "        print(f\"Triplet Loss: {loss}\")\n",
        "        if loss < best_loss:\n",
        "            torch.save(model.state_dict(), config.TRAINED_MODEL_PATH)\n",
        "            best_loss = loss"
      ],
      "metadata": {
        "id": "xeucBU86mWet"
      },
      "execution_count": null,
      "outputs": []
    },
    {
      "cell_type": "code",
      "source": [
        "run(df)"
      ],
      "metadata": {
        "colab": {
          "base_uri": "https://localhost:8080/",
          "height": 205,
          "referenced_widgets": [
            "6f532221e76b4250ad8047d93b13ac70",
            "4f8a3547c1a24ec4a8cffcfc43e33eca",
            "96c3cb54f02b410485154d77db355b8d",
            "fb9686a0977044d597191050fa5e4033",
            "3bc11e09b5194e0c86708fe2bfd30988",
            "48f54c343ec54eb6bea6446b4dd68cc6",
            "0cd671fde61f465289685a8ff8e8274d",
            "098da3db816841e2a41fb69f424e31fe",
            "275ed700303c44418a3cd243fe378ac8",
            "f74046ee9e864a9bbc59bea80b1bd610",
            "cb0872a1bc314eed884007e1d1f13a6e",
            "52f0340e6bde43adbe7d9d4ab5050a75",
            "eb5b719f87554133911dd03107616224",
            "8303671d4b094024970c2eef82393420",
            "5004db8ad10b4a34a45af1a3a8607142",
            "71a4f2297ded45fc96ae2c53435dd71d",
            "fc2713588ea64300a7964c6b2a307fd5",
            "7371f29409e54ae38226929c7a04ab06",
            "ae98bddc84934f2a9ac4ce18523cd07c",
            "32c8337db90b46b996e4bb9a547c2281",
            "3f52050be0b64efb87853430b699e57a",
            "f355c6ce2629405cae06398eb61061d2"
          ]
        },
        "id": "XupaMI0L4NUN",
        "outputId": "1310a65e-0ca5-4d27-8d4f-edb446c4acdc"
      },
      "execution_count": null,
      "outputs": [
        {
          "output_type": "stream",
          "name": "stdout",
          "text": [
            "Tesla T4\n"
          ]
        },
        {
          "output_type": "stream",
          "name": "stderr",
          "text": [
            "Some weights of the model checkpoint at distilbert-base-multilingual-cased were not used when initializing DistilBertModel: ['vocab_layer_norm.weight', 'vocab_transform.bias', 'vocab_transform.weight', 'vocab_projector.bias', 'vocab_projector.weight', 'vocab_layer_norm.bias']\n",
            "- This IS expected if you are initializing DistilBertModel from the checkpoint of a model trained on another task or with another architecture (e.g. initializing a BertForSequenceClassification model from a BertForPreTraining model).\n",
            "- This IS NOT expected if you are initializing DistilBertModel from the checkpoint of a model that you expect to be exactly identical (initializing a BertForSequenceClassification model from a BertForSequenceClassification model).\n"
          ]
        },
        {
          "output_type": "display_data",
          "data": {
            "text/plain": [
              "Epoch 1:   0%|          | 0/2608 [00:00<?, ?it/s]"
            ],
            "application/vnd.jupyter.widget-view+json": {
              "version_major": 2,
              "version_minor": 0,
              "model_id": "6f532221e76b4250ad8047d93b13ac70"
            }
          },
          "metadata": {}
        },
        {
          "output_type": "stream",
          "name": "stdout",
          "text": [
            "Triplet Loss: 0.04455796299727942\n"
          ]
        },
        {
          "output_type": "display_data",
          "data": {
            "text/plain": [
              "Epoch 2:   0%|          | 0/2608 [00:00<?, ?it/s]"
            ],
            "application/vnd.jupyter.widget-view+json": {
              "version_major": 2,
              "version_minor": 0,
              "model_id": "52f0340e6bde43adbe7d9d4ab5050a75"
            }
          },
          "metadata": {}
        },
        {
          "output_type": "stream",
          "name": "stdout",
          "text": [
            "Triplet Loss: 0.038563121056099894\n"
          ]
        }
      ]
    },
    {
      "cell_type": "markdown",
      "source": [
        "## DistilBERT for classification Model"
      ],
      "metadata": {
        "id": "tzUiGOZJcB7I"
      }
    },
    {
      "cell_type": "code",
      "source": [
        "class DistilBertClassifier(torch.nn.Module):\n",
        "    def __init__(self, warmed_up_model):\n",
        "        super(DistilBertClassifier, self).__init__()\n",
        "        self.model = warmed_up_model\n",
        "        for param in self.model.parameters():\n",
        "            param.requires_grad = False\n",
        "        self.drop = torch.nn.Dropout(0.3)\n",
        "        self.linear = torch.nn.Linear(768, 1)\n",
        "\n",
        "    def forward(self, ids, mask):\n",
        "        outputs = self.model(ids, mask)\n",
        "        o = self.linear(outputs)\n",
        "        return self.drop(o)"
      ],
      "metadata": {
        "id": "jREZiDWNYZkO"
      },
      "execution_count": null,
      "outputs": []
    },
    {
      "cell_type": "code",
      "source": [
        "warmed_up_model = TransformerModel()\n",
        "warmed_up_model.load_state_dict(torch.load(\"/content/distilbert_cl_baseline.pt\"))\n",
        "warmed_up_model.to(config.DEVICE)"
      ],
      "metadata": {
        "colab": {
          "base_uri": "https://localhost:8080/"
        },
        "id": "oarWhMoyeR9Z",
        "outputId": "65fcdb0e-a663-4022-9236-7da7e1fa22bf"
      },
      "execution_count": null,
      "outputs": [
        {
          "output_type": "stream",
          "name": "stderr",
          "text": [
            "Some weights of the model checkpoint at distilbert-base-multilingual-cased were not used when initializing DistilBertModel: ['vocab_layer_norm.weight', 'vocab_transform.bias', 'vocab_transform.weight', 'vocab_projector.bias', 'vocab_projector.weight', 'vocab_layer_norm.bias']\n",
            "- This IS expected if you are initializing DistilBertModel from the checkpoint of a model trained on another task or with another architecture (e.g. initializing a BertForSequenceClassification model from a BertForPreTraining model).\n",
            "- This IS NOT expected if you are initializing DistilBertModel from the checkpoint of a model that you expect to be exactly identical (initializing a BertForSequenceClassification model from a BertForSequenceClassification model).\n"
          ]
        },
        {
          "output_type": "execute_result",
          "data": {
            "text/plain": [
              "TransformerModel(\n",
              "  (model): DistilBertModel(\n",
              "    (embeddings): Embeddings(\n",
              "      (word_embeddings): Embedding(119547, 768, padding_idx=0)\n",
              "      (position_embeddings): Embedding(512, 768)\n",
              "      (LayerNorm): LayerNorm((768,), eps=1e-12, elementwise_affine=True)\n",
              "      (dropout): Dropout(p=0.1, inplace=False)\n",
              "    )\n",
              "    (transformer): Transformer(\n",
              "      (layer): ModuleList(\n",
              "        (0-5): 6 x TransformerBlock(\n",
              "          (attention): MultiHeadSelfAttention(\n",
              "            (dropout): Dropout(p=0.1, inplace=False)\n",
              "            (q_lin): Linear(in_features=768, out_features=768, bias=True)\n",
              "            (k_lin): Linear(in_features=768, out_features=768, bias=True)\n",
              "            (v_lin): Linear(in_features=768, out_features=768, bias=True)\n",
              "            (out_lin): Linear(in_features=768, out_features=768, bias=True)\n",
              "          )\n",
              "          (sa_layer_norm): LayerNorm((768,), eps=1e-12, elementwise_affine=True)\n",
              "          (ffn): FFN(\n",
              "            (dropout): Dropout(p=0.1, inplace=False)\n",
              "            (lin1): Linear(in_features=768, out_features=3072, bias=True)\n",
              "            (lin2): Linear(in_features=3072, out_features=768, bias=True)\n",
              "            (activation): GELUActivation()\n",
              "          )\n",
              "          (output_layer_norm): LayerNorm((768,), eps=1e-12, elementwise_affine=True)\n",
              "        )\n",
              "      )\n",
              "    )\n",
              "  )\n",
              "  (drop): Dropout(p=0.3, inplace=False)\n",
              ")"
            ]
          },
          "metadata": {},
          "execution_count": 45
        }
      ]
    },
    {
      "cell_type": "markdown",
      "source": [
        "## Finetuning Engine"
      ],
      "metadata": {
        "id": "qLIg2vbyfB3j"
      }
    },
    {
      "cell_type": "code",
      "source": [
        "# def loss_fn(outputs, targets):\n",
        "#     return torch.nn.BCEWithLogitsLoss()(outputs, targets)\n",
        "\n",
        "# Regression\n",
        "def loss_fn(outputs, targets):\n",
        "    return torch.nn.MSELoss()(outputs, targets)\n",
        "\n",
        "def train(epoch, model, training_loader, device, optimizer):\n",
        "    progress_bar = tqdm(\n",
        "        training_loader,\n",
        "        total=len(training_loader),\n",
        "        desc='Epoch ' + str(epoch + 1)\n",
        "    )\n",
        "    model.train()\n",
        "    for step, data in enumerate(progress_bar):\n",
        "        ids = data['input_ids'].to(device, dtype=torch.long)\n",
        "        mask = data['input_mask'].to(device, dtype=torch.long)\n",
        "        targets = data['targets'].to(device, dtype=torch.float)\n",
        "\n",
        "        outputs = model(ids, mask)\n",
        "\n",
        "        optimizer.zero_grad()\n",
        "        loss = loss_fn(outputs, targets.view(-1, 1))\n",
        "        progress_bar.set_postfix({\"batch_loss\": loss.item()})\n",
        "\n",
        "        optimizer.zero_grad()\n",
        "        loss.backward()\n",
        "        optimizer.step()\n",
        "\n",
        "\n",
        "def validation(epoch, model,testing_loader,device):\n",
        "    model.eval()\n",
        "    fin_targets = []\n",
        "    fin_outputs = []\n",
        "    with torch.no_grad():\n",
        "        for _, data in enumerate(testing_loader, 0):\n",
        "            ids = data['input_ids'].to(device, dtype=torch.long)\n",
        "            mask = data['input_mask'].to(device, dtype=torch.long)\n",
        "\n",
        "            targets = data['targets'].to(device, dtype=torch.float)\n",
        "            outputs = model(ids, mask)\n",
        "            fin_targets.extend(targets.cpu().detach().numpy().tolist())\n",
        "            fin_outputs.extend(torch.sigmoid(outputs).cpu().detach().numpy().tolist())\n",
        "    return fin_outputs, fin_targets"
      ],
      "metadata": {
        "id": "9GArl4b3ezWq"
      },
      "execution_count": null,
      "outputs": []
    },
    {
      "cell_type": "markdown",
      "source": [
        "## Finetune model for classification"
      ],
      "metadata": {
        "id": "IsDU8HM7ipG0"
      }
    },
    {
      "cell_type": "code",
      "source": [
        "def finetune(df, warmed_up_model):\n",
        "    # train_size = 0.8\n",
        "    # train_dataset = df.sample(frac=train_size, random_state=200)\n",
        "    test_dataset = df_test.reset_index(drop=True)\n",
        "    train_dataset = df.reset_index(drop=True)\n",
        "\n",
        "    print(\"FULL Dataset: {}\".format(df.shape))\n",
        "    print(\"TRAIN Dataset: {}\".format(train_dataset.shape))\n",
        "    print(\"TEST Dataset: {}\".format(test_dataset.shape))\n",
        "\n",
        "    training_set = CustomDataset(train_dataset)\n",
        "    testing_set = CustomDataset(test_dataset)\n",
        "\n",
        "    train_params = {'batch_size': config.BATCH_SIZE,\n",
        "                    'shuffle': True,\n",
        "                    'num_workers': 0\n",
        "                    }\n",
        "\n",
        "    test_params = {'batch_size': config.BATCH_SIZE,\n",
        "                   'shuffle': True,\n",
        "                   'num_workers': 0\n",
        "                   }\n",
        "\n",
        "    training_loader = DataLoader(training_set, **train_params)\n",
        "    testing_loader = DataLoader(testing_set, **test_params)\n",
        "\n",
        "    # Creating dataloader\n",
        "    train_dataset = CustomDataset(df)\n",
        "    train_dataloader = DataLoader(train_dataset, batch_size=config.BATCH_SIZE, shuffle=True)\n",
        "\n",
        "    # GPU check and setting the device\n",
        "    device = torch.device(\"cuda\" if torch.cuda.is_available() else \"cpu\")\n",
        "    n_gpu = torch.cuda.device_count()\n",
        "    print(torch.cuda.get_device_name(0))\n",
        "\n",
        "    # Object of model and setting to device\n",
        "    model = DistilBertClassifier(warmed_up_model)\n",
        "    model.to(device)\n",
        "\n",
        "    # Model parameters\n",
        "    param_optimizer = list(model.named_parameters())\n",
        "    no_decay = [\"bias\", \"LayerNorm.bias\", \"LayerNorm.weight\"]\n",
        "    optimizer_parameters = [\n",
        "        {\n",
        "            \"params\": [\n",
        "                p for n, p in param_optimizer if not any(nd in n for nd in no_decay)\n",
        "            ],\n",
        "            \"weight_decay\": 0.001,\n",
        "        },\n",
        "        {\n",
        "            \"params\": [\n",
        "                p for n, p in param_optimizer if any(nd in n for nd in no_decay)\n",
        "            ],\n",
        "            \"weight_decay\": 0.0,\n",
        "        },\n",
        "    ]\n",
        "\n",
        "    # Optimizer and Scheduler\n",
        "    optimizer = torch.optim.AdamW(optimizer_parameters, lr=3e-5)\n",
        "\n",
        "    best_val_loss = float('inf')\n",
        "    for epoch in range(config.EPOCHS):\n",
        "        loss = train(epoch, model, train_dataloader, device, optimizer)\n",
        "        outputs, targets = validation(epoch, model, testing_loader, device)\n",
        "        # outputs = np.array(outputs) >= 0.5\n",
        "        # accuracy = accuracy_score(targets, outputs)\n",
        "        # print(f\"Accuracy Score = {accuracy}\")\n",
        "        # if accuracy > best_acc:\n",
        "        #     torch.save(model.state_dict(), \"finetuned_distil_bert_regress.pt\")\n",
        "        #     best_acc = accuracy\n",
        "        val_loss = loss_fn(torch.tensor(outputs, dtype=float), torch.tensor(targets, dtype=float))\n",
        "        print(f\"MSE Loss = {val_loss}\")\n",
        "        if val_loss < best_val_loss:\n",
        "            torch.save(model.state_dict(), \"finetuned_distil_bert_regress.pt\")\n",
        "            best_val_loss = val_loss"
      ],
      "metadata": {
        "id": "z-ynKbXxfEsk"
      },
      "execution_count": null,
      "outputs": []
    },
    {
      "cell_type": "code",
      "source": [
        "finetune(df, warmed_up_model)"
      ],
      "metadata": {
        "colab": {
          "base_uri": "https://localhost:8080/",
          "height": 240,
          "referenced_widgets": [
            "ffa0dc23b1294e02969dd0934f8ccc33",
            "df0670e931b44d98911f3105b81efa79",
            "b035693c2eb642ecbe54ab960d3a8247",
            "1d3dfd25667946e0ab393a2c6ca969b2",
            "2be8c7e9dd294574b625555b05d3005b",
            "c8b85024c7814d208b4fb7c61d745d13",
            "77fc6790db2146ba95d51fd6026c800f",
            "f771ba28f14c404bb91f55474a1209ae",
            "93726865cb804fd9bae71573db6f2915",
            "1010f9d46684461f966af4b67cfa68eb",
            "28d409d91e2441bd8e0b866e0f34da00",
            "795025de890549b7b205be718ba0372d",
            "39c64d12a442462b99cf07ebce57309d",
            "0e01f44d384149839d5ae295e7c7a7cf",
            "e466a66c8f51480d8c97c86ed5cd7f06",
            "4b7cd311fa814b4cbca5cb6f264b6253",
            "d5eb86017b9b400bb25627ec246428ab",
            "0bdef3621a524efb944309931739d75a",
            "958fcec401ef4dfbb5858d0693909ade",
            "b57972f5ff7942e38c95c81184f54d0c",
            "6deb042f404a4ac78533e210bfb5b405",
            "3f97363cc8954ce2910cda700fae1ee9"
          ]
        },
        "id": "DHaKFKTYfm2s",
        "outputId": "9ff3c919-e335-405c-c88e-b5f1604e587f"
      },
      "execution_count": null,
      "outputs": [
        {
          "output_type": "stream",
          "name": "stdout",
          "text": [
            "FULL Dataset: (10431, 10)\n",
            "TRAIN Dataset: (10431, 10)\n",
            "TEST Dataset: (4210, 10)\n",
            "Tesla T4\n"
          ]
        },
        {
          "output_type": "display_data",
          "data": {
            "text/plain": [
              "Epoch 1:   0%|          | 0/2608 [00:00<?, ?it/s]"
            ],
            "application/vnd.jupyter.widget-view+json": {
              "version_major": 2,
              "version_minor": 0,
              "model_id": "ffa0dc23b1294e02969dd0934f8ccc33"
            }
          },
          "metadata": {}
        },
        {
          "output_type": "stream",
          "name": "stderr",
          "text": [
            "/usr/local/lib/python3.9/dist-packages/torch/nn/modules/loss.py:536: UserWarning: Using a target size (torch.Size([4210])) that is different to the input size (torch.Size([4210, 1])). This will likely lead to incorrect results due to broadcasting. Please ensure they have the same size.\n",
            "  return F.mse_loss(input, target, reduction=self.reduction)\n"
          ]
        },
        {
          "output_type": "stream",
          "name": "stdout",
          "text": [
            "MSE Loss = 0.2759084137661302\n"
          ]
        },
        {
          "output_type": "display_data",
          "data": {
            "text/plain": [
              "Epoch 2:   0%|          | 0/2608 [00:00<?, ?it/s]"
            ],
            "application/vnd.jupyter.widget-view+json": {
              "version_major": 2,
              "version_minor": 0,
              "model_id": "795025de890549b7b205be718ba0372d"
            }
          },
          "metadata": {}
        },
        {
          "output_type": "stream",
          "name": "stdout",
          "text": [
            "MSE Loss = 0.28227244712181904\n"
          ]
        }
      ]
    },
    {
      "cell_type": "code",
      "source": [],
      "metadata": {
        "id": "TIthNij83XEZ"
      },
      "execution_count": null,
      "outputs": []
    }
  ]
}